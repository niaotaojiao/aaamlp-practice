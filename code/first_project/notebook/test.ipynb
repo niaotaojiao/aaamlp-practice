{
 "cells": [
  {
   "cell_type": "code",
   "execution_count": 8,
   "metadata": {},
   "outputs": [],
   "source": [
    "import config \n",
    "import joblib\n",
    "import pandas as pd\n",
    "import os \n",
    "from sklearn import metrics\n",
    "from sklearn import tree\n"
   ]
  },
  {
   "cell_type": "code",
   "execution_count": 11,
   "metadata": {},
   "outputs": [],
   "source": [
    "def run(fold):\n",
    "    ''' load data '''\n",
    "    df = pd.read_csv(\"../input/mnist_train_folds.csv\")\n",
    "\n",
    "    ''' training data is where kfold is not equal to provided fold \n",
    "        also, note that we reset the index '''\n",
    "    df_train = df[df.kfold != fold].reset_index(drop=True)\n",
    "\n",
    "    ''' validation data is where kfold is equal to provided fold '''\n",
    "    df_valid = df[df.kfold == fold].reset_index(drop=True)\n",
    "\n",
    "    ''' drop the label column from dataframe and convert it to \n",
    "        a numpy array by using .values.\n",
    "        target is label column in the dataframe '''\n",
    "    x_train = df_train.drop(\"label\", axis=1).values\n",
    "    y_train = df_train.label.values\n",
    "\n",
    "    ''' similarly, for validation, we have '''\n",
    "    x_valid = df_valid.drop(\"label\", axis=1).values\n",
    "    y_valid = df_valid.label.values\n",
    "\n",
    "    ''' initialize simple decision tree classifier from sklearm '''\n",
    "    clf = tree.DecisionTreeClassifier()\n",
    "    \n",
    "    ''' fir the model on training data '''\n",
    "    clf.fit(x_train, y_train)\n",
    "\n",
    "    ''' create predictions for validation samples '''\n",
    "    preds = clf.predict(x_valid)\n",
    "\n",
    "    ''' calculate & print accuracy '''\n",
    "    accuracy = metrics.accuracy_score(y_valid, preds)\n",
    "    print(f\"Fold = {fold}, Accuracy = {accuracy}\")\n",
    "\n",
    "    ''' save the model '''\n",
    "    joblib.dump(\n",
    "        clf,\n",
    "        f\"../models/dt_{fold}.bin\"\n",
    "    )"
   ]
  },
  {
   "cell_type": "code",
   "execution_count": 12,
   "metadata": {},
   "outputs": [
    {
     "name": "stdout",
     "output_type": "stream",
     "text": [
      "Fold = 0, Accuracy = 0.865\n"
     ]
    }
   ],
   "source": [
    "run(fold = 0)"
   ]
  },
  {
   "cell_type": "code",
   "execution_count": 2,
   "metadata": {},
   "outputs": [],
   "source": [
    "df = pd.read_csv(\"../input/mnist_train_folds.csv\")"
   ]
  },
  {
   "cell_type": "code",
   "execution_count": 15,
   "metadata": {},
   "outputs": [
    {
     "ename": "NameError",
     "evalue": "name 'fold' is not defined",
     "output_type": "error",
     "traceback": [
      "\u001b[0;31m---------------------------------------------------------------------------\u001b[0m",
      "\u001b[0;31mNameError\u001b[0m                                 Traceback (most recent call last)",
      "\u001b[0;32m/tmp/ipykernel_74780/1293724196.py\u001b[0m in \u001b[0;36m<module>\u001b[0;34m\u001b[0m\n\u001b[0;32m----> 1\u001b[0;31m \u001b[0mdf_train\u001b[0m \u001b[0;34m=\u001b[0m \u001b[0mdf\u001b[0m\u001b[0;34m[\u001b[0m\u001b[0mdf\u001b[0m\u001b[0;34m.\u001b[0m\u001b[0mkfold\u001b[0m \u001b[0;34m!=\u001b[0m \u001b[0mfold\u001b[0m\u001b[0;34m]\u001b[0m\u001b[0;34m.\u001b[0m\u001b[0mreset_index\u001b[0m\u001b[0;34m(\u001b[0m\u001b[0mdrop\u001b[0m\u001b[0;34m=\u001b[0m\u001b[0;32mTrue\u001b[0m\u001b[0;34m)\u001b[0m\u001b[0;34m\u001b[0m\u001b[0;34m\u001b[0m\u001b[0m\n\u001b[0m\u001b[1;32m      2\u001b[0m \u001b[0mdf_train\u001b[0m\u001b[0;34m\u001b[0m\u001b[0;34m\u001b[0m\u001b[0m\n",
      "\u001b[0;31mNameError\u001b[0m: name 'fold' is not defined"
     ]
    }
   ],
   "source": [
    "df_train = df[df.kfold != fold].reset_index(drop=True)\n",
    "df_train"
   ]
  },
  {
   "cell_type": "code",
   "execution_count": 14,
   "metadata": {},
   "outputs": [
    {
     "ename": "SyntaxError",
     "evalue": "invalid syntax (1667193229.py, line 1)",
     "output_type": "error",
     "traceback": [
      "\u001b[0;36m  File \u001b[0;32m\"/tmp/ipykernel_74780/1667193229.py\"\u001b[0;36m, line \u001b[0;32m1\u001b[0m\n\u001b[0;31m    df_valid = df[df.kfold == ].reset_index(drop=True)\u001b[0m\n\u001b[0m                              ^\u001b[0m\n\u001b[0;31mSyntaxError\u001b[0m\u001b[0;31m:\u001b[0m invalid syntax\n"
     ]
    }
   ],
   "source": [
    "df_valid = df[df.kfold == ].reset_index(drop=True)\n",
    "df_valid"
   ]
  },
  {
   "cell_type": "code",
   "execution_count": null,
   "metadata": {},
   "outputs": [],
   "source": []
  }
 ],
 "metadata": {
  "kernelspec": {
   "display_name": "aaamlp",
   "language": "python",
   "name": "python3"
  },
  "language_info": {
   "codemirror_mode": {
    "name": "ipython",
    "version": 3
   },
   "file_extension": ".py",
   "mimetype": "text/x-python",
   "name": "python",
   "nbconvert_exporter": "python",
   "pygments_lexer": "ipython3",
   "version": "3.7.6"
  }
 },
 "nbformat": 4,
 "nbformat_minor": 2
}
